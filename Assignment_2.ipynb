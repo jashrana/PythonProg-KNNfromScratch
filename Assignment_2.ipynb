{
  "cells": [
    {
      "cell_type": "markdown",
      "id": "1d8146e0",
      "metadata": {
        "id": "1d8146e0"
      },
      "source": [
        "# Programming and Tools for AI (/Online)\n",
        "# James McDermott, University of Galway, 2022\n",
        "# CT5132/CT5148\n",
        "# Assignment 2\n",
        "\n",
        "**Due**:\n",
        "\n",
        "* CT5132 midnight Friday 28 Oct (end of Week 8)\n",
        "* CT5148 midnight Sunday 30 Oct (end of Week 8)\n",
        "\n",
        "**Weight**: this is worth 25% of the module.\n",
        "\n",
        "**Groups**: you can work solo or in a group of two, as you prefer. You can not work together with another student you already worked with in any assignment in this module or any other. If working in a group, both students should submit and their submissions should be identical.\n",
        "\n",
        "**Plagiarism**: students are reminded of the University's policies on plagiarism. Code copied from the internet should be sourced with the URL in a comment. Students can discuss the assignment but must not look at each other's work (other than within a group). Some cases were reported to relevant authorities during Assignment 1.\n",
        "\n",
        "**Requirements**:\n",
        "\n",
        "* Add your name(s)/ID(s) in the next cell.\n",
        "* Write code in this notebook to pass the doctests and produce the images as directed.\n",
        "* Write new doctests. For each docstring below which contains doctests, you have to add one more doctest inside the same docstring, together with a line or two of explanation in your own words.\n",
        "* Submit your .ipynb file and nothing else. Don't type in the submission box.\n",
        "\n",
        "**Notes**:\n",
        "\n",
        "Do not change or delete any doctests, or insert lines above the docstrings, or change the doctest calls.\n",
        "\n",
        "When I receive your submission, I'll go to the Kernel menu and \"Restart and run all\", and I'll look at your code, your doctests, and your outputs. So, the last thing you should do before submitting is \"Restart and run all\" and check that every part runs correctly. (One thing that sometimes goes wrong in notebooks is that a piece of code relies on a variable or function which was previously defined but is now deleted but is still \"alive\" in the kernel's memory, so the notebook crashes when re-run.)\n",
        "\n",
        "Marks will be awarded for each of the 12 questions. Both correct outputs and code will be assessed. Images are not expected to match exactly, but doctests are.\n",
        "\n",
        "If you get stuck on any part, you should still be able to continue to other parts. If you can't see how to proceed in this case, please ask me.\n",
        "\n",
        "There are a lot of parts, so even if you don't get everything, you can still get a good mark."
      ]
    },
    {
      "cell_type": "markdown",
      "id": "ec65f5c6",
      "metadata": {
        "id": "ec65f5c6"
      },
      "source": [
        "**Student ID(s)**: 22222806, 22229629\n",
        "\n",
        "**Name(s)**: Jash Prakash Rana, Manas Ballal Atre\n",
        "\n",
        "**Declaration**: By submitting to Blackboard, I/we declare that I/we have not seen any work by other students on this assignment and have not shown my/our work to any others. I/we declare that we have not worked together on any previous assignment in this module or another."
      ]
    },
    {
      "cell_type": "markdown",
      "id": "20ed25ca",
      "metadata": {
        "id": "20ed25ca"
      },
      "source": [
        "# Clustering Sequences using $n$-grams\n",
        "\n",
        "In this assignment, we'll put together a clustering method specialised to sequence mining, in the style of Scikit-Learn. We'll use components from Scikit-Learn itself, Numpy, and Matplotlib.\n",
        "\n",
        "Usually when we do machine learning, we fit with numerical, rectangular data, so each sample is a feature vector. But sequences are a bit different. For a start, each sequence might be of different length. Also, commonalities between sequences might be mis-aligned, eg these two sequences are pretty similar:\n",
        "\n",
        "$(0, 0, 1, 4, 7, 0, 0, 1)$\n",
        "\n",
        "$(0, 1, 4, 7, 0, 1)$\n",
        "\n",
        "The approach we'll use is to count common subsequences of length $n$, ie $n$-grams. \n",
        "\n",
        "Many machine learning algorithms work fine even if we don't have feature vectors, but we have distances between points. \n",
        "\n",
        "We will use the $n$-gram counts to compute a measure of dissimilarity between any pair of sequences.\n",
        "\n",
        "In Scikit-Learn, several algorithms accept a keyword such as `metric=\"precomputed\"` or `affinity=\"precomputed\"`, which allows us to pass in the square matrix of distances instead of passing in the points themselves.\n",
        "\n",
        "This notebook will walk us through all the steps, with doctests and examples for each. Most of the code needed is based on something we've seen in class."
      ]
    },
    {
      "cell_type": "code",
      "execution_count": 1,
      "id": "7db49713",
      "metadata": {
        "id": "7db49713"
      },
      "outputs": [],
      "source": [
        "# imports - we don't need any others\n",
        "import sys\n",
        "assert sys.version_info >= (3, 7), \"This notebook requires Python 3.7+\"\n",
        "\n",
        "from collections import Counter\n",
        "import random\n",
        "import doctest\n",
        "\n",
        "import numpy as np\n",
        "import matplotlib.pyplot as plt\n",
        "\n",
        "from sklearn.base import BaseEstimator, ClusterMixin\n",
        "from sklearn.manifold import TSNE\n",
        "from sklearn.cluster import AgglomerativeClustering"
      ]
    },
    {
      "cell_type": "code",
      "execution_count": 2,
      "id": "1a022f42",
      "metadata": {
        "colab": {
          "base_uri": "https://localhost:8080/"
        },
        "id": "1a022f42",
        "outputId": "dd4f0edd-911f-4f5f-9151-f55a1dc33dfc"
      },
      "outputs": [
        {
          "output_type": "stream",
          "name": "stdout",
          "text": [
            "[0, 2, 0, 2, 0, 1, 1, 2, 2, 0, 0, 2, 2, 2, 1, 1, 2, 2, 2, 2, 2, 0, 1, 2, 2, 1, 2, 1, 0, 1, 0, 1, 0, 0, 0, 0, 1, 0, 2, 2]\n",
            "[2, 1, 4, 5, 2, 6, 2, 6, 3, 3, 3, 5, 3, 3, 5, 3, 3, 4, 4, 2, 6, 5, 2, 1, 1, 4, 5, 5, 3, 6, 3, 5, 4, 5, 1, 1, 1, 5, 5, 6]\n",
            "[3, 2, 4, 4, 4, 3, 3, 4, 4, 2, 2, 2, 2, 3, 4, 2, 3, 4, 2, 3, 2, 2, 2, 3, 3, 4, 4, 4, 4, 3]\n"
          ]
        }
      ],
      "source": [
        "# here we construct 10 fake sequences from each of 3 methods\n",
        "X = [[random.randrange(0, 3) for _ in range(40)] for _ in range(50)] + \\\n",
        "    [[random.randrange(1, 7) for _ in range(40)] for _ in range(50)] + \\\n",
        "    [[random.randrange(2, 5) for _ in range(30)] for _ in range(50)]\n",
        "print(X[0]) # take a look at one example from each method\n",
        "print(X[50])\n",
        "print(X[100])"
      ]
    },
    {
      "cell_type": "markdown",
      "id": "e4aaae20",
      "metadata": {
        "id": "e4aaae20"
      },
      "source": [
        "**Question 1**. Suppose we have a sequence of integers, `x`, eg `x = [0, 1, 4, 0, 1, 4, 7, 0, 1, 4]`. We immediately see that there are some common subsequences: eg `[0, 1, 4]` occurs three times.\n",
        "\n",
        "Write a function `count_ngrams` which extracts all *n-grams*, ie all subsequences of length `n`, and returns their number of occurrences in a `Counter`. "
      ]
    },
    {
      "cell_type": "code",
      "execution_count": 3,
      "id": "f0b078cf",
      "metadata": {
        "id": "f0b078cf"
      },
      "outputs": [],
      "source": [
        "def count_ngrams(x, n):\n",
        "    '''\n",
        "The input can be a list:\n",
        ">>> count_ngrams([0, 1, 4, 0, 1, 4, 7, 0, 1, 4], 3)\n",
        "Counter({(0, 1, 4): 3,\n",
        "         (1, 4, 0): 1,\n",
        "         (4, 0, 1): 1,\n",
        "         (1, 4, 7): 1,\n",
        "         (4, 7, 0): 1,\n",
        "         (7, 0, 1): 1})\n",
        "         \n",
        "It can be a tuple:\n",
        ">>> count_ngrams((0, 1, 4, 0, 1, 4, 7, 0, 1, 4), 5)\n",
        "Counter({(0, 1, 4, 0, 1): 1, \n",
        "         (1, 4, 0, 1, 4): 1, \n",
        "         (4, 0, 1, 4, 7): 1, \n",
        "         (0, 1, 4, 7, 0): 1, \n",
        "         (1, 4, 7, 0, 1): 1, \n",
        "         (4, 7, 0, 1, 4): 1})\n",
        "         \n",
        "It can be empty:         \n",
        ">>> count_ngrams([], 3)\n",
        "Counter()\n",
        "\n",
        "It can even be a string:\n",
        ">>> count_ngrams(\"abcdabcdefacd\", 3)\n",
        "Counter({('a', 'b', 'c'): 2, ('b', 'c', 'd'): 2, ('c', 'd', 'a'): 1, \n",
        "         ('d', 'a', 'b'): 1, ('c', 'd', 'e'): 1, ('d', 'e', 'f'): 1, \n",
        "         ('e', 'f', 'a'): 1, ('f', 'a', 'c'): 1, ('a', 'c', 'd'): 1})\n",
        "    '''\n",
        "    # YOUR CODE HERE\n",
        "    # my code is 1 line\n",
        "    input = x\n",
        "    ngram_val = n\n",
        "\n",
        "    #initiailzing temp variable as a list, to use the append function\n",
        "    temp = []\n",
        "\n",
        "    for i in range((len(input) - ngram_val) + 1):\n",
        "        #appending each item of 'input' into the temp variable\n",
        "        temp.append(input[i:i + ngram_val])\n",
        "        #converting each ngram created to tuple for hashing into the Counter\n",
        "        temp[i] = tuple(temp[i])\n",
        "    result = Counter(temp)\n",
        "    return result"
      ]
    },
    {
      "cell_type": "code",
      "execution_count": 4,
      "id": "21fcd135",
      "metadata": {
        "colab": {
          "base_uri": "https://localhost:8080/"
        },
        "id": "21fcd135",
        "outputId": "d5e60406-39bb-4f77-e565-ab96b8a5cc2c"
      },
      "outputs": [
        {
          "output_type": "stream",
          "name": "stderr",
          "text": [
            "\n",
            "PYDEV DEBUGGER WARNING:\n",
            "sys.settrace() should not be used when the debugger is being used.\n",
            "This may cause the debugger to stop working correctly.\n",
            "If this is needed, please check: \n",
            "http://pydev.blogspot.com/2007/06/why-cant-pydev-debugger-work-with.html\n",
            "to see how to restore the debug tracing back correctly.\n",
            "Call Location:\n",
            "  File \"/usr/lib/python3.7/doctest.py\", line 1487, in run\n",
            "    sys.settrace(save_trace)\n",
            "\n"
          ]
        },
        {
          "output_type": "stream",
          "name": "stdout",
          "text": [
            "Finding tests in NoName\n",
            "Trying:\n",
            "    count_ngrams([0, 1, 4, 0, 1, 4, 7, 0, 1, 4], 3)\n",
            "Expecting:\n",
            "    Counter({(0, 1, 4): 3,\n",
            "             (1, 4, 0): 1,\n",
            "             (4, 0, 1): 1,\n",
            "             (1, 4, 7): 1,\n",
            "             (4, 7, 0): 1,\n",
            "             (7, 0, 1): 1})\n",
            "ok\n",
            "Trying:\n",
            "    count_ngrams((0, 1, 4, 0, 1, 4, 7, 0, 1, 4), 5)\n",
            "Expecting:\n",
            "    Counter({(0, 1, 4, 0, 1): 1, \n",
            "             (1, 4, 0, 1, 4): 1, \n",
            "             (4, 0, 1, 4, 7): 1, \n",
            "             (0, 1, 4, 7, 0): 1, \n",
            "             (1, 4, 7, 0, 1): 1, \n",
            "             (4, 7, 0, 1, 4): 1})\n",
            "ok\n",
            "Trying:\n",
            "    count_ngrams([], 3)\n",
            "Expecting:\n",
            "    Counter()\n",
            "ok\n",
            "Trying:\n",
            "    count_ngrams(\"abcdabcdefacd\", 3)\n",
            "Expecting:\n",
            "    Counter({('a', 'b', 'c'): 2, ('b', 'c', 'd'): 2, ('c', 'd', 'a'): 1, \n",
            "             ('d', 'a', 'b'): 1, ('c', 'd', 'e'): 1, ('d', 'e', 'f'): 1, \n",
            "             ('e', 'f', 'a'): 1, ('f', 'a', 'c'): 1, ('a', 'c', 'd'): 1})\n",
            "ok\n"
          ]
        }
      ],
      "source": [
        "doctest.run_docstring_examples(count_ngrams, globals(), verbose=True, optionflags=doctest.NORMALIZE_WHITESPACE)"
      ]
    },
    {
      "cell_type": "markdown",
      "id": "d41a5caa",
      "metadata": {
        "id": "d41a5caa"
      },
      "source": [
        "**Question 2**. Suppose we have a list of sequences, `X`. Write a function which gets the ngrams for each sequence in `X`. Of course it should just use our `count_ngrams`. Notice that `X` could be *ragged*, ie not every sequence in `X` has to be the same length."
      ]
    },
    {
      "cell_type": "code",
      "execution_count": 5,
      "id": "13df3cb7",
      "metadata": {
        "id": "13df3cb7"
      },
      "outputs": [],
      "source": [
        "def count_ngrams_multi(X, n):\n",
        "    '''\n",
        ">>> count_ngrams_multi([[0, 1, 4, 0, 1, 4, 7, 0, 1, 4],\n",
        "...                     [4, 5, 6, 4, 5, 6],\n",
        "...                     [1, 5, 9, 5, 1]], 3)\n",
        "[Counter({(0, 1, 4): 3, (1, 4, 0): 1, (4, 0, 1): 1, \n",
        "          (1, 4, 7): 1, (4, 7, 0): 1, (7, 0, 1): 1}), \n",
        " Counter({(4, 5, 6): 2, (5, 6, 4): 1, (6, 4, 5): 1}), \n",
        " Counter({(1, 5, 9): 1, (5, 9, 5): 1, (9, 5, 1): 1})]\n",
        ">>> count_ngrams_multi([[]], 3)\n",
        "[Counter()]\n",
        "    '''\n",
        "    # YOUR CODE HERE\n",
        "    # my code is 1 line\n",
        "    input = X\n",
        "    ngram_val = n\n",
        "\n",
        "    #initiailzing temp variable as a list, to use the append function\n",
        "    temp = []\n",
        "    result = []\n",
        "    counter = Counter()\n",
        "\n",
        "    #First for loop for iterating the 2D list\n",
        "    for var in input:\n",
        "        for i in range((len(var) - ngram_val) + 1):\n",
        "            #appending each item of 'input' into the temp variable\n",
        "            temp.append(var[i:i + ngram_val])\n",
        "            #converting each ngram created to tuple for hashing into the Counter\n",
        "            temp[i] = tuple(temp[i])\n",
        "            counter = Counter(temp)\n",
        "        temp = []\n",
        "\n",
        "        #Storing each multi-list counter in another list\n",
        "        result.append(counter)\n",
        "\n",
        "        #Clearing the counter to refresh for another list\n",
        "        counter += Counter()   \n",
        "    return result"
      ]
    },
    {
      "cell_type": "code",
      "execution_count": 6,
      "id": "55d34f19",
      "metadata": {
        "colab": {
          "base_uri": "https://localhost:8080/"
        },
        "id": "55d34f19",
        "outputId": "3d667170-a8e3-4c6f-e5c7-b4288c73d9a1"
      },
      "outputs": [
        {
          "output_type": "stream",
          "name": "stdout",
          "text": [
            "Finding tests in NoName\n",
            "Trying:\n",
            "    count_ngrams_multi([[0, 1, 4, 0, 1, 4, 7, 0, 1, 4],\n",
            "                        [4, 5, 6, 4, 5, 6],\n",
            "                        [1, 5, 9, 5, 1]], 3)\n",
            "Expecting:\n",
            "    [Counter({(0, 1, 4): 3, (1, 4, 0): 1, (4, 0, 1): 1, \n",
            "              (1, 4, 7): 1, (4, 7, 0): 1, (7, 0, 1): 1}), \n",
            "     Counter({(4, 5, 6): 2, (5, 6, 4): 1, (6, 4, 5): 1}), \n",
            "     Counter({(1, 5, 9): 1, (5, 9, 5): 1, (9, 5, 1): 1})]\n",
            "ok\n",
            "Trying:\n",
            "    count_ngrams_multi([[]], 3)\n",
            "Expecting:\n",
            "    [Counter()]\n",
            "ok\n"
          ]
        }
      ],
      "source": [
        "# This runs our count_ngrams_multi doctests.\n",
        "doctest.run_docstring_examples(count_ngrams_multi, globals(), verbose=True, optionflags=doctest.NORMALIZE_WHITESPACE)"
      ]
    },
    {
      "cell_type": "markdown",
      "id": "dc76a14b",
      "metadata": {
        "id": "dc76a14b"
      },
      "source": [
        "**Question 3**. We're going to need a helper function `counter_total` which measures the \"total size\" of a `Counter` by counting the total of its individual counts."
      ]
    },
    {
      "cell_type": "code",
      "execution_count": 7,
      "id": "9b9f6fc6",
      "metadata": {
        "id": "9b9f6fc6"
      },
      "outputs": [],
      "source": [
        "def counter_total(c):\n",
        "    '''\n",
        "    Sum of the counts in a counter c\n",
        "    \n",
        "    If you have Python 3.10+, this is available directly as c.total().\n",
        "    \n",
        "    >>> counter_total(Counter())\n",
        "    0\n",
        "    >>> counter_total(Counter({'a': 1, 'b': 3}))\n",
        "    4\n",
        "    '''\n",
        "    # YOUR CODE HERE\n",
        "    # my code is 1 line\n",
        "    return sum(val for val in c.values())"
      ]
    },
    {
      "cell_type": "code",
      "execution_count": 8,
      "id": "d33442be",
      "metadata": {
        "colab": {
          "base_uri": "https://localhost:8080/"
        },
        "id": "d33442be",
        "outputId": "6a931355-27bb-4479-b844-2945600f922a"
      },
      "outputs": [
        {
          "output_type": "stream",
          "name": "stdout",
          "text": [
            "Finding tests in NoName\n",
            "Trying:\n",
            "    counter_total(Counter())\n",
            "Expecting:\n",
            "    0\n",
            "ok\n",
            "Trying:\n",
            "    counter_total(Counter({'a': 1, 'b': 3}))\n",
            "Expecting:\n",
            "    4\n",
            "ok\n"
          ]
        }
      ],
      "source": [
        "doctest.run_docstring_examples(counter_total, globals(), verbose=True, optionflags=doctest.NORMALIZE_WHITESPACE)"
      ]
    },
    {
      "cell_type": "markdown",
      "id": "7bd121ec",
      "metadata": {
        "id": "7bd121ec"
      },
      "source": [
        "**Question 4**.\n",
        "\n",
        "Next, we want to measure the *dissimilarity* between two sequences, `X` and `Y`.  \n",
        "\n",
        "Since we already have a method for representing a sequence as a `Counter` of n-grams, we only need a method for measuring the dissimilarity of two `Counter`s, $A$ and $B$. One main approach is the *Jaccard dissimilarity*. It's defined as:\n",
        "\n",
        "$$\\mathrm{JD}(A, B) = 1 - \\frac{|A \\cap B|}{|A \\cup B|}$$\n",
        "\n",
        "(Source: https://en.wikipedia.org/wiki/Jaccard_index.)\n",
        "\n",
        "In other words, $\\mathrm{JD}$ is low (dissimilarity low => similarity high) if there are many $n$-grams in common between `X` and `Y`. \n",
        "\n",
        "By the way, if you Google for \"python jaccard distance\" you'll find a lot of results which are not what we want, so be careful.\n",
        "\n",
        "To calculate intersection and union on `Counter` objects we can use `&` and `|` operators, and the result is a new `Counter`. After that we can use our `counter_total` to get the size `| |`."
      ]
    },
    {
      "cell_type": "code",
      "execution_count": 9,
      "id": "b2d95feb",
      "metadata": {
        "id": "b2d95feb"
      },
      "outputs": [],
      "source": [
        "def JD(A, B):\n",
        "    '''Jaccard dissimilarity on multisets, represented by Counters.\n",
        "    \n",
        "    Two are identical:\n",
        "    >>> JD(Counter({0, 1, 2, 3}), Counter({0, 1, 2, 3}))\n",
        "    0.0\n",
        "    \n",
        "    Two are similar:\n",
        "    >>> JD(Counter([0, 0, 0, 1, 1, 2, 3]), Counter([0, 0, 0, 1, 1, 2, 4]))\n",
        "    0.25\n",
        "    \n",
        "    Two are totally different:\n",
        "    >>> JD(Counter({0, 1, 2, 3}), Counter({10, 11, 12, 13}))\n",
        "    1.0\n",
        "    '''\n",
        "    # YOUR CODE HERE\n",
        "    # my code is 1 line\n",
        "    return 1 - (abs(counter_total(A & B)) / abs(counter_total(A | B)))"
      ]
    },
    {
      "cell_type": "code",
      "execution_count": 10,
      "id": "bf78c2c7",
      "metadata": {
        "colab": {
          "base_uri": "https://localhost:8080/"
        },
        "id": "bf78c2c7",
        "outputId": "fd35aa5f-97c5-4a81-a6d7-2b3c13a5a1aa"
      },
      "outputs": [
        {
          "output_type": "stream",
          "name": "stdout",
          "text": [
            "Finding tests in NoName\n",
            "Trying:\n",
            "    JD(Counter({0, 1, 2, 3}), Counter({0, 1, 2, 3}))\n",
            "Expecting:\n",
            "    0.0\n",
            "ok\n",
            "Trying:\n",
            "    JD(Counter([0, 0, 0, 1, 1, 2, 3]), Counter([0, 0, 0, 1, 1, 2, 4]))\n",
            "Expecting:\n",
            "    0.25\n",
            "ok\n",
            "Trying:\n",
            "    JD(Counter({0, 1, 2, 3}), Counter({10, 11, 12, 13}))\n",
            "Expecting:\n",
            "    1.0\n",
            "ok\n"
          ]
        }
      ],
      "source": [
        "doctest.run_docstring_examples(JD, globals(), verbose=True, optionflags=doctest.NORMALIZE_WHITESPACE)"
      ]
    },
    {
      "cell_type": "markdown",
      "id": "24c95be3",
      "metadata": {
        "id": "24c95be3"
      },
      "source": [
        "**Question 5**. As explained earlier, we need a function to precompute the distances between pairs of sequences and store them in an array. The main use of this is to calculate the pairwise distances between all pairs of n-grams derived from the training data (which is a list of sequences). The result of this is a square distance matrix, which will have zero on the diagonal. \n",
        "\n",
        "However, we can make our function slightly more general. If we write it to accept *two* lists of ngrams, and return a rectangular distance matrix then it will be useful in more situations. We can still use it for the original purpose by passing the same list twice."
      ]
    },
    {
      "cell_type": "code",
      "execution_count": 11,
      "id": "a55518c2",
      "metadata": {
        "id": "a55518c2"
      },
      "outputs": [],
      "source": [
        "def distance_matrix(ngrams1, ngrams2):\n",
        "    \"\"\"\n",
        "    If ngrams1 and ngrams2 are the same we get a square matrix:\n",
        "    >>> distance_matrix(count_ngrams_multi(['abcd', 'abc', 'acde'], 2), \n",
        "    ...                 count_ngrams_multi(['abcd', 'abc', 'acde'], 2)).shape == (3, 3)\n",
        "    True\n",
        "\n",
        "    And we get zeros on the diagonal, because JD(A, A) == 0 for any A:\n",
        "    >>> distance_matrix(count_ngrams_multi(['abcd', 'abc', 'acde'], 2), \n",
        "    ...                 count_ngrams_multi(['abcd', 'abc', 'acde'], 2)).diagonal()\n",
        "    array([0., 0., 0.])\n",
        "\n",
        "    If ngrams1 and ngrams2 are different lengths we get a rectangular (not square) matrix:\n",
        "    >>> distance_matrix(count_ngrams_multi(['abcd', 'abc', 'acde'], 2), \n",
        "    ...                 count_ngrams_multi(['abcd', 'abc'        ], 2)).shape == (3, 2)\n",
        "    True\n",
        "    \"\"\"\n",
        "    # YOUR CODE HERE\n",
        "    # my code is 5 lines\n",
        "    matrix = np.zeros((len(ngrams1), len(ngrams2)))\n",
        "    for j in range(len(ngrams2)):\n",
        "        for i in range(len(ngrams1)):\n",
        "            matrix[i][j] = JD(ngrams1[i], ngrams2[j])\n",
        "    return matrix"
      ]
    },
    {
      "cell_type": "code",
      "execution_count": 12,
      "id": "2b9f031c",
      "metadata": {
        "colab": {
          "base_uri": "https://localhost:8080/"
        },
        "id": "2b9f031c",
        "outputId": "149a3ab8-09a6-414f-c212-5b5820c75dff"
      },
      "outputs": [
        {
          "output_type": "stream",
          "name": "stdout",
          "text": [
            "Finding tests in NoName\n",
            "Trying:\n",
            "    distance_matrix(count_ngrams_multi(['abcd', 'abc', 'acde'], 2), \n",
            "                    count_ngrams_multi(['abcd', 'abc', 'acde'], 2)).shape == (3, 3)\n",
            "Expecting:\n",
            "    True\n",
            "ok\n",
            "Trying:\n",
            "    distance_matrix(count_ngrams_multi(['abcd', 'abc', 'acde'], 2), \n",
            "                    count_ngrams_multi(['abcd', 'abc', 'acde'], 2)).diagonal()\n",
            "Expecting:\n",
            "    array([0., 0., 0.])\n",
            "ok\n",
            "Trying:\n",
            "    distance_matrix(count_ngrams_multi(['abcd', 'abc', 'acde'], 2), \n",
            "                    count_ngrams_multi(['abcd', 'abc'        ], 2)).shape == (3, 2)\n",
            "Expecting:\n",
            "    True\n",
            "ok\n"
          ]
        }
      ],
      "source": [
        "doctest.run_docstring_examples(distance_matrix, globals(), verbose=True, optionflags=doctest.NORMALIZE_WHITESPACE)"
      ]
    },
    {
      "cell_type": "markdown",
      "id": "e2094a21",
      "metadata": {
        "id": "e2094a21"
      },
      "source": [
        "**Question 6**. We need another helper function which calculates the *cluster score*. \n",
        "It will be similar to the $k$-means objective mentioned in lectures but not identical. We define the \n",
        "cluster score as 1 minus the normalised sum of intra-cluster distances. That is, we \n",
        "take all the points in a particular cluster and sum all the distances between them.\n",
        "Sum that over all clusters. Normalise that by dividing by the sum of distances \n",
        "between *all* points (regardless of cluster). The result is in [0, 1], of course. It's 0 if\n",
        "the points within each cluster are identical. It's larger if not. Finally, take 1\n",
        "minus that, so that higher is better. So 1 is the perfect score."
      ]
    },
    {
      "cell_type": "code",
      "execution_count": 13,
      "id": "32c1d4de",
      "metadata": {
        "id": "32c1d4de"
      },
      "outputs": [],
      "source": [
        "def cluster_score(D, labels):\n",
        "    \"\"\"\n",
        "    Calculate a clustering score, defined as the 1 minus the\n",
        "    normalised sum of intra-cluster distances. The result is in\n",
        "    [0, 1], where higher is better.\n",
        "    \n",
        "    `D` is a square 2D array of distances between *all* points,\n",
        "    of shape (n, n) where n is the number of points.\n",
        "    \n",
        "    `labels` is a list or 1D array of cluster labels, of length n.\n",
        "    \n",
        "    Here we see two clusters of two points each and in each cluster, and\n",
        "    the points are at zero distance from each other,\n",
        "    so we get a perfect score of 1.0\n",
        "    >>> cluster_score(np.array([[0, 0, 1, 1], \n",
        "    ...                         [0, 0, 1, 1],\n",
        "    ...                         [1, 1, 0, 0], \n",
        "    ...                         [1, 1, 0, 0]]), \n",
        "    ...               [0, 0, 1, 1])\n",
        "    1.0\n",
        "    \n",
        "    Again, two clusters of two points each, but\n",
        "    this time they are clustered badly! Nearby points are in\n",
        "    different clusters.\n",
        "    >>> cluster_score(np.array([[0, 0, 1, 1], \n",
        "    ...                         [0, 0, 1, 1],\n",
        "    ...                         [1, 1, 0, 0], \n",
        "    ...                         [1, 1, 0, 0]]), \n",
        "    ...               [0, 1, 0, 1])\n",
        "    0.5\n",
        "    \n",
        "    Again, two clusters, but more realistic:\n",
        "    >>> round(cluster_score(np.array([[0, 1, 7, 8], \n",
        "    ...                               [1, 0, 6, 5],\n",
        "    ...                               [7, 6, 0, 1], \n",
        "    ...                               [8, 5, 1, 0]]), \n",
        "    ...                     [0, 0, 1, 1]), 3)\n",
        "    0.929\n",
        "    \n",
        "    \"\"\"\n",
        "    # YOUR CODE HERE\n",
        "    # my code is 5 lines\n",
        "    sum = 0; den = 0; list1 = labels\n",
        "    for j in range(len(list1)):\n",
        "        for i in range(len(labels)):\n",
        "            if labels[i] == list1[j]:\n",
        "                sum = (sum + D[i][j]) \n",
        "            if D[i][j] != 0:\n",
        "                den = den + D[i][j]\n",
        "    return 1 - (sum/den)\n"
      ]
    },
    {
      "cell_type": "code",
      "execution_count": 14,
      "id": "65b006ad",
      "metadata": {
        "colab": {
          "base_uri": "https://localhost:8080/"
        },
        "id": "65b006ad",
        "outputId": "640b4c00-04db-4a35-b768-9fa3120d097d"
      },
      "outputs": [
        {
          "output_type": "stream",
          "name": "stdout",
          "text": [
            "Finding tests in NoName\n",
            "Trying:\n",
            "    cluster_score(np.array([[0, 0, 1, 1], \n",
            "                            [0, 0, 1, 1],\n",
            "                            [1, 1, 0, 0], \n",
            "                            [1, 1, 0, 0]]), \n",
            "                  [0, 0, 1, 1])\n",
            "Expecting:\n",
            "    1.0\n",
            "ok\n",
            "Trying:\n",
            "    cluster_score(np.array([[0, 0, 1, 1], \n",
            "                            [0, 0, 1, 1],\n",
            "                            [1, 1, 0, 0], \n",
            "                            [1, 1, 0, 0]]), \n",
            "                  [0, 1, 0, 1])\n",
            "Expecting:\n",
            "    0.5\n",
            "ok\n",
            "Trying:\n",
            "    round(cluster_score(np.array([[0, 1, 7, 8], \n",
            "                                  [1, 0, 6, 5],\n",
            "                                  [7, 6, 0, 1], \n",
            "                                  [8, 5, 1, 0]]), \n",
            "                        [0, 0, 1, 1]), 3)\n",
            "Expecting:\n",
            "    0.929\n",
            "ok\n"
          ]
        }
      ],
      "source": [
        "doctest.run_docstring_examples(cluster_score, globals(), verbose=True, optionflags=doctest.NORMALIZE_WHITESPACE)"
      ]
    },
    {
      "cell_type": "markdown",
      "id": "4ad521eb",
      "metadata": {
        "id": "4ad521eb"
      },
      "source": [
        "**Question 7**. Now, we're ready to put everything together. Create a class `NGramsKClusters` which inherits from `BaseEstimator` and `ClusterMixin`. This is analogous to the nearest-neighbours class we created when studying the Scikit-Learn API.\n",
        "\n",
        "It should have an `__init__` function which stores the values of $n$ and $k$. It should have a `fit` method, where the input `X` is a list of sequences. In `fit` we should precompute the distance matrix.\n",
        "\n",
        "To actually do the clustering in `fit`, we should use the Scikit-Learn `AgglomerativeClustering` method. We should pass it the arguments `linkage=\"average\"` and `affinity=\"precomputed\"`, but we don't need to understand the details here.\n",
        "\n",
        "Inside `fit`, our class should store the $n$-grams `ngrams_`, the distance matrix `distances_`, the labels found by AgglomerativeClustering `labels_`, and the clustering score `score_`. \n",
        "\n",
        "The function `fit_predict` will be supplied by the API. We don't have to write it. Behind the scenes it will call `fit` and immediately return the cluster label for each point in `X`. This is useful for clustering, because typically our only goal is to get cluster labels for the training data, ie we don't later on want to predict with any other `X`.\n",
        "\n",
        "However in our case, we will also write `predict`. The input to this is a new `X` and for each sequence in that `X` we should find the label of the nearest sequence in our training data. This can use our existing `ngrams_`."
      ]
    },
    {
      "cell_type": "code",
      "execution_count": 15,
      "id": "c3846ccc",
      "metadata": {
        "id": "c3846ccc"
      },
      "outputs": [],
      "source": [
        "class NGramsKClusters(BaseEstimator, ClusterMixin):\n",
        "    \"\"\"\n",
        "    >>> NGramsKClusters(n_clusters=2, ngram_len=3)\n",
        "    NGramsKClusters(n_clusters=2, ngram_len=3)\n",
        "\n",
        "    Don't forget, fit() should return self:\n",
        "    >>> NGramsKClusters(n_clusters=2, ngram_len=3).fit(X)\n",
        "    NGramsKClusters(n_clusters=2, ngram_len=3)\n",
        "    \n",
        "    If we fit with 2 clusters the output should be 0's and 1's\n",
        "    >>> set(NGramsKClusters(n_clusters=2, ngram_len=3).fit_predict(X))\n",
        "    {0, 1}\n",
        "\n",
        "    If we fit with 2 clusters the output should be 0's and 1's and 2's\n",
        "    >>> set(NGramsKClusters(n_clusters=3, ngram_len=3).fit_predict(X))\n",
        "    {0, 1, 2}\n",
        "\n",
        "    After fitting, the object should have various trailing-underscore values:\n",
        "    >>> nk = NGramsKClusters(n_clusters=2, ngram_len=3).fit(X)\n",
        "    >>> all(hasattr(nk, name)\n",
        "    ...     for name in ['ngrams_', 'labels_', 'score_', 'distances_'])\n",
        "    True\n",
        "\n",
        "    \"\"\"\n",
        "    # YOUR CODE HERE\n",
        "    # my code is ~20 lines\n",
        "    def __init__(self, n_clusters, ngram_len):\n",
        "        self.n_clusters = n_clusters\n",
        "        self.ngram_len = ngram_len\n",
        "\n",
        "    def fit(self, X):\n",
        "        self.ngrams_ = count_ngrams_multi(X, self.ngram_len)\n",
        "        self.distances_ = distance_matrix(self.ngrams_, self.ngrams_)\n",
        "        self.agglo_clust_ = AgglomerativeClustering(n_clusters = self.n_clusters, linkage = 'average', affinity = 'precomputed')\n",
        "        self.labels_ = self.agglo_clust_.fit_predict(self.distances_)\n",
        "        self.score_ = cluster_score(self.distances_, self.labels_)\n",
        "        return self\n",
        "\n",
        "    def predict(self, Q, y=None):\n",
        "        self.X_ngrams_ = count_ngrams_multi(Q, self.ngram_len)\n",
        "        self.X_dist_ = distance_matrix(self.X_ngrams_, self.ngrams_)\n",
        "        self.min_=self.X_dist_.min()\n",
        "        self.index_ = []\n",
        "        for mainlist in self.X_dist_:\n",
        "            for value in range(len(mainlist)):\n",
        "                if mainlist[value] == self.min_:\n",
        "                    self.index_.append(value)\n",
        "                    break\n",
        "        return self.labels_[self.index_]"
      ]
    },
    {
      "cell_type": "code",
      "execution_count": 16,
      "id": "997bf56b",
      "metadata": {
        "colab": {
          "base_uri": "https://localhost:8080/"
        },
        "id": "997bf56b",
        "outputId": "789c91d9-b9ed-4e32-cf75-eb5fe0b03e21"
      },
      "outputs": [
        {
          "output_type": "stream",
          "name": "stdout",
          "text": [
            "Finding tests in NoName\n",
            "Trying:\n",
            "    NGramsKClusters(n_clusters=2, ngram_len=3)\n",
            "Expecting:\n",
            "    NGramsKClusters(n_clusters=2, ngram_len=3)\n",
            "ok\n",
            "Trying:\n",
            "    NGramsKClusters(n_clusters=2, ngram_len=3).fit(X)\n",
            "Expecting:\n",
            "    NGramsKClusters(n_clusters=2, ngram_len=3)\n",
            "ok\n",
            "Trying:\n",
            "    set(NGramsKClusters(n_clusters=2, ngram_len=3).fit_predict(X))\n",
            "Expecting:\n",
            "    {0, 1}\n",
            "ok\n",
            "Trying:\n",
            "    set(NGramsKClusters(n_clusters=3, ngram_len=3).fit_predict(X))\n",
            "Expecting:\n",
            "    {0, 1, 2}\n",
            "ok\n",
            "Trying:\n",
            "    nk = NGramsKClusters(n_clusters=2, ngram_len=3).fit(X)\n",
            "Expecting nothing\n",
            "ok\n",
            "Trying:\n",
            "    all(hasattr(nk, name)\n",
            "        for name in ['ngrams_', 'labels_', 'score_', 'distances_'])\n",
            "Expecting:\n",
            "    True\n",
            "ok\n"
          ]
        }
      ],
      "source": [
        "doctest.run_docstring_examples(NGramsKClusters, globals(), verbose=True, optionflags=doctest.NORMALIZE_WHITESPACE)"
      ]
    },
    {
      "cell_type": "markdown",
      "id": "0f6f0739",
      "metadata": {
        "id": "0f6f0739"
      },
      "source": [
        "**Question 8**. Now, let's use our class and the data it stores to evaluate.\n",
        "\n",
        "First, write a line of code to create the `NGramsKClusters` object with $n=3$ and $k=3$. Then fit it with `X`. Then print out the score. This doesn't need to be in a function."
      ]
    },
    {
      "cell_type": "code",
      "execution_count": 17,
      "id": "81ccb991",
      "metadata": {
        "colab": {
          "base_uri": "https://localhost:8080/"
        },
        "id": "81ccb991",
        "outputId": "2c17ec14-1ed6-40ae-cf18-e19fa0d6725a"
      },
      "outputs": [
        {
          "output_type": "stream",
          "name": "stdout",
          "text": [
            "0.7323158079476914\n"
          ]
        }
      ],
      "source": [
        "# YOUR CODE HERE\n",
        "# my code is 3 lines\n",
        "model = NGramsKClusters(n_clusters=3, ngram_len=3)\n",
        "model.fit(X)\n",
        "print(model.score_)"
      ]
    },
    {
      "cell_type": "markdown",
      "id": "73729055",
      "metadata": {
        "id": "73729055"
      },
      "source": [
        "**Question 9**. Next, here's a query sequence. Which cluster would it go into? Write a line or two of code to answer the question and to show that this result is \"correct\"."
      ]
    },
    {
      "cell_type": "code",
      "execution_count": 18,
      "id": "8fae948d",
      "metadata": {
        "id": "8fae948d"
      },
      "outputs": [],
      "source": [
        "Q = [[0, 2, 1, 0, 1, 2, 0, 1, 2]]"
      ]
    },
    {
      "cell_type": "code",
      "execution_count": 19,
      "id": "0a573a20",
      "metadata": {
        "colab": {
          "base_uri": "https://localhost:8080/"
        },
        "id": "0a573a20",
        "outputId": "35ca6f2e-36f5-42a9-8c7e-30f90fa7f3f6"
      },
      "outputs": [
        {
          "output_type": "stream",
          "name": "stdout",
          "text": [
            "Prediction of Cluster label for Q = [1]\n",
            "Index value of Minimum Distance = [1]\n",
            "Minimum Distance value at Index [1] = 0.816\n",
            "The result is correct as it has lowest value for the index and also it fits perfectly in a cluster,\n",
            "while whatever value X has stored randomly, the output will have the lowest value as 0.816 but the index may vary due to the random values assigned in X. \n",
            "There are even more indexes where the value may be same, but all we need is the minimum distance of any 1 index, so that we can calculate which cluster it will be mapped into.\n"
          ]
        }
      ],
      "source": [
        "# YOUR CODE HERE\n",
        "# my code is ~ 6 lines\n",
        "new_pred = model.predict(Q)\n",
        "print(f\"Prediction of Cluster label for Q = {new_pred}\")\n",
        "print(f\"Index value of Minimum Distance = {model.index_}\")\n",
        "print(f\"Minimum Distance value at Index {model.index_} = {round(model.min_,3)}\")\n",
        "print(\"The result is correct as it has lowest value for the index and also it fits perfectly in a cluster,\\nwhile whatever value X has stored randomly, the output will have the lowest value as 0.816 but the index may vary due to the random values assigned in X. \\nThere are even more indexes where the value may be same, but all we need is the minimum distance of any 1 index, so that we can calculate which cluster it will be mapped into.\")"
      ]
    },
    {
      "cell_type": "markdown",
      "id": "d2cdbce6",
      "metadata": {
        "id": "d2cdbce6"
      },
      "source": [
        "**Question 10**. Next let's visualise the results. First, use `imshow` to visualise the square distance matrix which has been saved by `fit`. We should get a result like this. It shows that the first 50 in X are all quite similar, and the last 50 in X are all quite similar, and the middle 50 are similar but slightly less so:\n",
        "\n",
        "![\"Title\"](NGramsKClusters_dissimilarity_matrix.png \"alt\")"
      ]
    },
    {
      "cell_type": "code",
      "execution_count": 20,
      "id": "322b4e6d",
      "metadata": {
        "colab": {
          "base_uri": "https://localhost:8080/",
          "height": 559
        },
        "id": "322b4e6d",
        "outputId": "3e4f3030-dfa8-40ad-c13a-c7e617751ccf"
      },
      "outputs": [
        {
          "output_type": "execute_result",
          "data": {
            "text/plain": [
              "<matplotlib.image.AxesImage at 0x7fd7544a13d0>"
            ]
          },
          "metadata": {},
          "execution_count": 20
        },
        {
          "output_type": "display_data",
          "data": {
            "text/plain": [
              "<Figure size 900x600 with 1 Axes>"
            ],
            "image/png": "[encoded data removed]"
          },
          "metadata": {
            "needs_background": "light"
          }
        }
      ],
      "source": [
        "# YOUR CODE HERE\n",
        "# my code is 1 line\n",
        "plt.figure(dpi = 150)\n",
        "plt.imshow(model.distances_)"
      ]
    },
    {
      "cell_type": "markdown",
      "id": "c9970ccf",
      "metadata": {
        "id": "c9970ccf"
      },
      "source": [
        "**Question 11**. Next, let's use $t$-SNE to visualise the data in 2D, with the labels shown as colour. This is similar to what we did under *Representation Learning*. Remember that we have `precomputed` distances. We should get an image something like this (it might be rotated or slightly different in other ways). It shows the three clusters clearly.\n",
        "\n",
        "![Image](NGramsKClusters_embedding.png)"
      ]
    },
    {
      "cell_type": "code",
      "execution_count": 21,
      "id": "2292f6c4",
      "metadata": {
        "colab": {
          "base_uri": "https://localhost:8080/",
          "height": 584
        },
        "id": "2292f6c4",
        "outputId": "3e3e439a-9d31-4fa3-fd3d-4d21797f84ae"
      },
      "outputs": [
        {
          "output_type": "execute_result",
          "data": {
            "text/plain": [
              "[Text(0.5, 1.0, 'NGramsKClusters Cluster Projection')]"
            ]
          },
          "metadata": {},
          "execution_count": 21
        },
        {
          "output_type": "display_data",
          "data": {
            "text/plain": [
              "<Figure size 900x600 with 1 Axes>"
            ],
            "image/png": "[encoded data removed]"
          },
          "metadata": {
            "needs_background": "light"
          }
        }
      ],
      "source": [
        "# YOUR CODE HERE\n",
        "# my code is 4 lines\n",
        "import warnings\n",
        "warnings.filterwarnings('ignore')\n",
        "import seaborn as sns\n",
        "tsne = TSNE(n_components=2)\n",
        "data = tsne.fit_transform(model.distances_)\n",
        "plt.figure(dpi = 150)\n",
        "sns.scatterplot(x = data[:,0], y = data[:,1], data=data, hue = model.labels_, palette = 'viridis').set(title=\"NGramsKClusters Cluster Projection\")"
      ]
    },
    {
      "cell_type": "markdown",
      "id": "a096dc55",
      "metadata": {
        "id": "a096dc55"
      },
      "source": [
        "**Question 12**. Finally, let's check out how the score changes for different $k$. Again, this is similar to something we did under *Representation Learning*. We should end up with an image something like this:\n",
        "\n",
        "![Image](NGramsKClusters_cluster_score_by_k.png)"
      ]
    },
    {
      "cell_type": "code",
      "execution_count": 22,
      "id": "7a5342ac",
      "metadata": {
        "colab": {
          "base_uri": "https://localhost:8080/",
          "height": 283
        },
        "id": "7a5342ac",
        "outputId": "4af59fed-595e-40d3-f89e-738d2010c213"
      },
      "outputs": [
        {
          "output_type": "execute_result",
          "data": {
            "text/plain": [
              "[<matplotlib.lines.Line2D at 0x7fd749c8ee90>]"
            ]
          },
          "metadata": {},
          "execution_count": 22
        },
        {
          "output_type": "display_data",
          "data": {
            "text/plain": [
              "<Figure size 432x288 with 1 Axes>"
            ],
            "image/png": "[encoded data removed]"
          },
          "metadata": {
            "needs_background": "light"
          }
        }
      ],
      "source": [
        "# YOUR CODE HERE\n",
        "# my code is ~ 5 lines\n",
        "k_var = [2,3,4,5,6,7]; x_label = []\n",
        "for i in k_var:\n",
        "    new_model = NGramsKClusters(n_clusters = i, ngram_len = 3)\n",
        "    new_model.fit(X)\n",
        "    x_label.append(new_model.score_)\n",
        "plt.plot(x_label)"
      ]
    }
  ],
  "metadata": {
    "colab": {
      "collapsed_sections": [],
      "provenance": []
    },
    "kernelspec": {
      "display_name": "Python 3 (ipykernel)",
      "language": "python",
      "name": "python3"
    },
    "language_info": {
      "codemirror_mode": {
        "name": "ipython",
        "version": 3
      },
      "file_extension": ".py",
      "mimetype": "text/x-python",
      "name": "python",
      "nbconvert_exporter": "python",
      "pygments_lexer": "ipython3",
      "version": "3.11.0"
    },
    "vscode": {
      "interpreter": {
        "hash": "0347a505dc9e7c92277165a1ea30f391a4c6a11f93c6bbbe5c249ca17fd9d013"
      }
    }
  },
  "nbformat": 4,
  "nbformat_minor": 5
}